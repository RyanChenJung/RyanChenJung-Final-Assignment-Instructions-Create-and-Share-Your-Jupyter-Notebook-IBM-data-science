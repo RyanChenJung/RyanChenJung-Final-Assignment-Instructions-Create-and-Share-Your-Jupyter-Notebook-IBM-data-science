{
 "cells": [
  {
   "cell_type": "markdown",
   "id": "7761a88e-5a6c-47cc-aea7-d543b93ffe8e",
   "metadata": {
    "panel-layout": {
     "height": 60.577049255371094,
     "visible": true,
     "width": 100
    }
   },
   "source": [
    "# Data Science Tools and Ecosystem"
   ]
  },
  {
   "cell_type": "markdown",
   "id": "412cbf4c-2c2e-44bb-bdd2-fdb353374e5e",
   "metadata": {},
   "source": [
    "## In this notebook, Data Science Tools and Ecosystem are summarized."
   ]
  },
  {
   "cell_type": "markdown",
   "id": "cdbc0627-1164-491e-b1f9-02340d7783bd",
   "metadata": {},
   "source": [
    "**Objectives:**\n",
    "- List popular languages for Data Science\n",
    "- List commonly used libraries\n",
    "- List Data Science Tools\n",
    "- Examples of evaluating arithmetic expressions in Python"
   ]
  },
  {
   "cell_type": "markdown",
   "id": "d5d25d99-3d09-42ce-b9e1-d0fc51853538",
   "metadata": {},
   "source": [
    "### Some of the popular languages that Data Scientists use are:\r\n",
    "1. SQL\r\n",
    "2. Python\r\n",
    "3. R\r\n",
    "4. Java\r\n",
    "5. Scala\r\n",
    "6. C++\r\n",
    "7. JavaScript\r\n",
    "8. Julia\r\n",
    "9. PHP\r\n",
    "10. GO\r\n",
    "11. Ruby\r\n",
    "12. Visual Basic"
   ]
  },
  {
   "cell_type": "markdown",
   "id": "f65e2e2d-9403-4603-99e8-059525661381",
   "metadata": {},
   "source": [
    "### Some of the commonly used libraries used by Data Scientists include:"
   ]
  },
  {
   "cell_type": "markdown",
   "id": "20b2648d-65df-4fdf-ae0e-c442e8b15481",
   "metadata": {},
   "source": [
    "#### Python\n",
    "1. Pandas\n",
    "2. NumPy\n",
    "3. Matplotlib\n",
    "4. Seaborn\n",
    "5. Scikit-learn\n",
    "6. Keras\n",
    "7. Tensorflow\n",
    "8. PyTorch"
   ]
  },
  {
   "cell_type": "markdown",
   "id": "6418cd6e-4828-48ab-afa2-1cc2bc6b2f70",
   "metadata": {},
   "source": [
    "#### Scala\n",
    "1. Vegas\n",
    "2. BigDL"
   ]
  },
  {
   "cell_type": "markdown",
   "id": "e448c6d9-dbb0-482d-ba56-186dbea6665b",
   "metadata": {},
   "source": [
    "#### R\n",
    "1. ggplot2"
   ]
  },
  {
   "cell_type": "markdown",
   "id": "0ec6aed0-d9aa-491b-ba4f-ddd0d01afd62",
   "metadata": {},
   "source": [
    "### Data Science Tools\n",
    "\n",
    "| Data Science Tools |\n",
    "| ------------------ |\n",
    "| Jupyter Lab        |\n",
    "| Jupyter Notebooks  |\n",
    "| Apache Zeppelin    |\n",
    "| Spyder             |"
   ]
  },
  {
   "cell_type": "markdown",
   "id": "ba481964-8752-4110-8af5-3feb89b27ec4",
   "metadata": {},
   "source": [
    "### Below are a few examples of evaluating arithmetic expressions in Python"
   ]
  },
  {
   "cell_type": "code",
   "execution_count": 122,
   "id": "6cf1b323-b411-4dfc-b621-4b83034ad36c",
   "metadata": {},
   "outputs": [
    {
     "data": {
      "text/plain": [
       "17"
      ]
     },
     "execution_count": 122,
     "metadata": {},
     "output_type": "execute_result"
    }
   ],
   "source": [
    "# This a simple arithmetic expression to mutiply then add integers \n",
    "(3*4)+5"
   ]
  },
  {
   "cell_type": "code",
   "execution_count": 124,
   "id": "40205ebb-d15a-4423-aa0a-7606f25c13fe",
   "metadata": {},
   "outputs": [
    {
     "data": {
      "text/plain": [
       "3.3333333333333335"
      ]
     },
     "execution_count": 124,
     "metadata": {},
     "output_type": "execute_result"
    }
   ],
   "source": [
    "# This will convert 200 minutes to hours by diving by 60\n",
    "200/60"
   ]
  },
  {
   "cell_type": "markdown",
   "id": "63409f1d-f541-4f69-89f4-fbecc2cef6a1",
   "metadata": {},
   "source": [
    "## Author\n",
    "Ryan Chen"
   ]
  },
  {
   "cell_type": "code",
   "execution_count": null,
   "id": "d23d9a5e-ba27-4185-86f0-88b4aec4e1c0",
   "metadata": {},
   "outputs": [],
   "source": []
  }
 ],
 "metadata": {
  "kernelspec": {
   "display_name": "Python 3 (ipykernel)",
   "language": "python",
   "name": "python3"
  },
  "language_info": {
   "codemirror_mode": {
    "name": "ipython",
    "version": 3
   },
   "file_extension": ".py",
   "mimetype": "text/x-python",
   "name": "python",
   "nbconvert_exporter": "python",
   "pygments_lexer": "ipython3",
   "version": "3.12.4"
  },
  "panel-cell-order": [
   "7761a88e-5a6c-47cc-aea7-d543b93ffe8e",
   "aa66d61c-0ad1-4cea-8df3-32b8ebadb249",
   "48009c4c-841f-4e5c-9e0b-24f041673589",
   "21930167-2b9d-4ba1-8fd8-dd0bef1ef18c"
  ]
 },
 "nbformat": 4,
 "nbformat_minor": 5
}
